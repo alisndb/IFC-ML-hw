{
 "cells": [
  {
   "cell_type": "code",
   "execution_count": null,
   "outputs": [],
   "source": [
    "!pip3 install scikit-learn pandas"
   ],
   "metadata": {
    "collapsed": false
   }
  },
  {
   "cell_type": "markdown",
   "source": [
    "---"
   ],
   "metadata": {
    "collapsed": false
   }
  },
  {
   "cell_type": "code",
   "execution_count": null,
   "outputs": [],
   "source": [
    "import numpy as np\n",
    "import pandas as pd\n",
    "from sklearn.datasets import load_boston\n",
    "from sklearn.model_selection import train_test_split\n",
    "from sklearn.linear_model import LinearRegression as LinReg"
   ],
   "metadata": {
    "collapsed": false
   }
  },
  {
   "cell_type": "code",
   "execution_count": null,
   "outputs": [],
   "source": [
    "class LinearRegression:\n",
    "    def __init__(self, **kwargs):\n",
    "        self.n_iter = 1500\n",
    "        self.alpha = 0.03\n",
    "\n",
    "        self.coef_ = None\n",
    "        self.n_features = None\n",
    "        self.params = None\n",
    "        self.n_samples = None\n",
    "        self.x = None\n",
    "        self.y = None\n",
    "        self.intercept_ = None\n",
    "\n",
    "    def fit(self, x: np.array, y: np.array):\n",
    "        self.n_samples = len(y)\n",
    "        self.n_features = np.size(x, 1)\n",
    "        self.params = np.zeros((self.n_features + 1, 1))\n",
    "        self.x = np.hstack((np.ones((self.n_samples, 1)), (x - np.mean(x, 0)) / np.std(x, 0)))\n",
    "        self.y = y[:, np.newaxis]\n",
    "\n",
    "        for i in range(self.n_iter):\n",
    "            self.params = self.params - (self.alpha / self.n_samples) * \\\n",
    "            self.x.T @ (self.x @ self.params - self.y)\n",
    "\n",
    "        self.intercept_ = self.params[0]\n",
    "        self.coef_ = self.params[1:]\n",
    "\n",
    "        return self\n",
    "\n",
    "    def predict(self, x: np.array):\n",
    "        n_samples = np.size(x, 0)\n",
    "        y = np.hstack((np.ones((n_samples, 1)), (x-np.mean(x, 0)) / np.std(x, 0))) @ self.params\n",
    "\n",
    "        return y\n",
    "\n",
    "    def score(self, x=None, y=None):\n",
    "\n",
    "        if x is None:\n",
    "            x = self.x\n",
    "        else:\n",
    "            n_samples = np.size(x, 0)\n",
    "            x = np.hstack((np.ones(\n",
    "                (n_samples, 1)), (x - np.mean(x, 0)) / np.std(x, 0)))\n",
    "\n",
    "        if y is None:\n",
    "            y = self.y\n",
    "        else:\n",
    "            y = y[:, np.newaxis]\n",
    "\n",
    "        y_pred = x @ self.params\n",
    "        score = 1 - (((y - y_pred)**2).sum() / ((y - y.mean())**2).sum())\n",
    "\n",
    "        return score"
   ],
   "metadata": {
    "collapsed": false
   }
  },
  {
   "cell_type": "code",
   "execution_count": null,
   "outputs": [],
   "source": [
    "dataset = load_boston()\n",
    "\n",
    "X = dataset.data\n",
    "y = dataset.target\n",
    "\n",
    "X_train, X_test, y_train, y_test = train_test_split(\\\n",
    "                X, y, test_size=0.3, random_state=42)\n",
    "\n",
    "our_regressor = LinearRegression().fit(X_train, y_train)\n",
    "sklearn_regressor = LinReg().fit(X_train, y_train)\n",
    "\n",
    "our_train_accuracy = our_regressor.score()\n",
    "sklearn_train_accuracy = sklearn_regressor.score(X_train, y_train)\n",
    "\n",
    "our_test_accuracy = our_regressor.score(X_test, y_test)\n",
    "sklearn_test_accuracy = sklearn_regressor.score(X_test, y_test)\n",
    "\n",
    "pd.DataFrame([[our_train_accuracy, sklearn_train_accuracy],\n",
    "              [our_test_accuracy, sklearn_test_accuracy]],\n",
    "             ['Training Accuracy', 'Test Accuracy'],\n",
    "             ['Our Implementation', 'Sklearn\\'s Implementation'])"
   ],
   "metadata": {
    "collapsed": false,
    "pycharm": {
     "is_executing": true
    }
   }
  },
  {
   "cell_type": "code",
   "execution_count": null,
   "outputs": [],
   "source": [
    "def r2(y_true, y_pred):\n",
    "    return 1 - (((y_true - y_pred)**2).sum() / ((y_true - y_true.mean())**2).sum())"
   ],
   "metadata": {
    "collapsed": false
   }
  },
  {
   "cell_type": "code",
   "execution_count": null,
   "outputs": [],
   "source": [],
   "metadata": {
    "collapsed": false
   }
  }
 ],
 "metadata": {
  "kernelspec": {
   "display_name": "Python 3",
   "language": "python",
   "name": "python3"
  },
  "language_info": {
   "codemirror_mode": {
    "name": "ipython",
    "version": 2
   },
   "file_extension": ".py",
   "mimetype": "text/x-python",
   "name": "python",
   "nbconvert_exporter": "python",
   "pygments_lexer": "ipython2",
   "version": "2.7.6"
  }
 },
 "nbformat": 4,
 "nbformat_minor": 0
}
