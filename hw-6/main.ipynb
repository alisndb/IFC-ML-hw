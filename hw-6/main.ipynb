{
 "cells": [
  {
   "cell_type": "code",
   "execution_count": 180,
   "metadata": {
    "collapsed": true
   },
   "outputs": [],
   "source": [
    "import numpy as np\n",
    "np.random.seed(42)\n",
    "\n",
    "\n",
    "class sample(object):\n",
    "    def __init__(self, X, n_subspace):\n",
    "        self.idx_subspace = self.random_subspace(X, n_subspace)\n",
    "\n",
    "    def __call__(self, X, y):\n",
    "        idx_obj = self.bootstrap_sample(X)\n",
    "        X_sampled, y_sampled = self.get_subsample(X, y, self.idx_subspace, idx_obj)\n",
    "\n",
    "        return X_sampled, y_sampled\n",
    "\n",
    "    @staticmethod\n",
    "    def bootstrap_sample(X, random_state=42):\n",
    "        \"\"\"\n",
    "        Заполните тело этой функции таким образом, чтобы она возвращала массив индексов выбранных при помощи бэггинга индексов.\n",
    "        Пользуйтесь только инструментами, реализованными в numpy.random, выставляя везде, где это необходимо, random_state=42\n",
    "        \"\"\"\n",
    "        n, d = X.shape\n",
    "\n",
    "        #return np.random.choice(a=np.arange(n), size=n, replace=False)\n",
    "        res = np.random.choice(a=np.arange(n), size=n)\n",
    "\n",
    "        return np.unique(res)\n",
    "\n",
    "    @staticmethod\n",
    "    def random_subspace(X, n_subspace, random_state=42):\n",
    "        \"\"\"\n",
    "        Заполните тело этой функции таким образом, чтобы она возвращала массив индексов выбранных при помощи метода случайных подпространств признаков\n",
    "        Количество этих признаков передается при помощи аргумента n_subspace\n",
    "        Пользуйтесь только инструментами, реализованными в numpy.random, выставляя везде, где это необходимо, random_state=42\n",
    "        \"\"\"\n",
    "        n, d = X.shape\n",
    "\n",
    "        #return np.random.choice(a=np.arange(d), size=n_subspace, replace=False)\n",
    "        res = np.random.choice(a=np.arange(d), size=n_subspace)\n",
    "\n",
    "        return res\n",
    "\n",
    "    @staticmethod\n",
    "    def get_subsample(X, y, idx_subspace, idx_obj):\n",
    "        \"\"\"\n",
    "        Заполните тело этой функции таким образом, чтобы она возвращала подвыборку x_sampled, y_sampled\n",
    "        по значениям индексов признаков(idx_subspace) и объектов(idx_obj), которые должны в неё попасть\n",
    "        \"\"\"\n",
    "        X_sampled = np.take(a=X, indices=idx_obj, axis=0)\n",
    "        y_sampled = np.take(a=y, indices=idx_obj, axis=0)\n",
    "\n",
    "        X_sampled = np.take(a=X_sampled, indices=idx_subspace, axis=1)\n",
    "\n",
    "        return X_sampled, y_sampled"
   ]
  },
  {
   "cell_type": "code",
   "execution_count": 181,
   "outputs": [],
   "source": [
    "X = np.array([[1,2,3], [4,5,6], [7,8,9]])\n",
    "Y = np.array([1, 2, 3])\n",
    "s = sample(X, 2)\n",
    "\n",
    "bootstrap_indices = s.bootstrap_sample(X)\n",
    "X_sampled, y_sampled = s.get_subsample(X, Y, s.idx_subspace, bootstrap_indices)"
   ],
   "metadata": {
    "collapsed": false
   }
  },
  {
   "cell_type": "code",
   "execution_count": 182,
   "outputs": [
    {
     "data": {
      "text/plain": "array([0, 2])"
     },
     "execution_count": 182,
     "metadata": {},
     "output_type": "execute_result"
    }
   ],
   "source": [
    "# Строки, выбранные из исходного массива X\n",
    "bootstrap_indices"
   ],
   "metadata": {
    "collapsed": false
   }
  },
  {
   "cell_type": "code",
   "execution_count": 183,
   "outputs": [
    {
     "data": {
      "text/plain": "array([2, 0])"
     },
     "execution_count": 183,
     "metadata": {},
     "output_type": "execute_result"
    }
   ],
   "source": [
    "# Столбцы, выбранные из исходного массива X\n",
    "s.idx_subspace"
   ],
   "metadata": {
    "collapsed": false
   }
  },
  {
   "cell_type": "code",
   "execution_count": 184,
   "outputs": [
    {
     "data": {
      "text/plain": "array([[3, 1],\n       [9, 7]])"
     },
     "execution_count": 184,
     "metadata": {},
     "output_type": "execute_result"
    }
   ],
   "source": [
    "# Матрица на выходе\n",
    "X_sampled"
   ],
   "metadata": {
    "collapsed": false
   }
  },
  {
   "cell_type": "code",
   "execution_count": 185,
   "outputs": [
    {
     "data": {
      "text/plain": "array([1, 3])"
     },
     "execution_count": 185,
     "metadata": {},
     "output_type": "execute_result"
    }
   ],
   "source": [
    "# Вектор ответов на выходе\n",
    "y_sampled"
   ],
   "metadata": {
    "collapsed": false
   }
  },
  {
   "cell_type": "code",
   "execution_count": null,
   "outputs": [],
   "source": [],
   "metadata": {
    "collapsed": false
   }
  }
 ],
 "metadata": {
  "kernelspec": {
   "display_name": "Python 3",
   "language": "python",
   "name": "python3"
  },
  "language_info": {
   "codemirror_mode": {
    "name": "ipython",
    "version": 2
   },
   "file_extension": ".py",
   "mimetype": "text/x-python",
   "name": "python",
   "nbconvert_exporter": "python",
   "pygments_lexer": "ipython2",
   "version": "2.7.6"
  }
 },
 "nbformat": 4,
 "nbformat_minor": 0
}
